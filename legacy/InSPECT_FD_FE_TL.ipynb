{
 "cells": [
  {
   "cell_type": "markdown",
   "source": [
    "### InSPECT : Full Dataset w/ Transfer Learning (Might add Feature Engineering later)\n",
    "We are going to implement better feature representation using transfer learning and increase the scope of our dataset. We will first do some exploration of the Nobrainer repository so that we can be more familiar with its tools and implementations.\n",
    "\n",
    "### Works Cited:\n",
    "Nobrainer: https://github.com/neuronets/nobrainer/blob/master/CITATION   [![DOI](https://zenodo.org/badge/DOI/10.5281/zenodo.7222022.svg)](https://doi.org/10.5281/zenodo.7222022)\n"
   ],
   "metadata": {
    "collapsed": false
   }
  },
  {
   "cell_type": "code",
   "execution_count": 2,
   "metadata": {
    "collapsed": true
   },
   "outputs": [],
   "source": [
    "# Installs the Nobrainer Library\n",
    "!pip install --no-cache-dir nobrainer -q"
   ]
  },
  {
   "cell_type": "code",
   "execution_count": 12,
   "outputs": [
    {
     "name": "stdout",
     "output_type": "stream",
     "text": [
      "2.11.0\n",
      "0.4.0\n",
      "1.24.2\n",
      "5.0.1\n",
      "3.7.0\n"
     ]
    }
   ],
   "source": [
    "# Using Python 3.9\n",
    "\n",
    "import tensorflow as tf\n",
    "print(tf.__version__)\n",
    "\n",
    "import nobrainer as nb\n",
    "print(nb.__version__)\n",
    "\n",
    "import numpy as np\n",
    "print(np.__version__)\n",
    "\n",
    "import nibabel as nib\n",
    "print(nib.__version__)\n",
    "\n",
    "import matplotlib\n",
    "print(matplotlib._get_version())"
   ],
   "metadata": {
    "collapsed": false
   }
  },
  {
   "cell_type": "code",
   "execution_count": 16,
   "outputs": [
    {
     "data": {
      "text/plain": "[]"
     },
     "execution_count": 16,
     "metadata": {},
     "output_type": "execute_result"
    }
   ],
   "source": [
    "tf.config.list_physical_devices('GPU')"
   ],
   "metadata": {
    "collapsed": false
   }
  },
  {
   "cell_type": "code",
   "execution_count": 14,
   "outputs": [
    {
     "name": "stdout",
     "output_type": "stream",
     "text": [
      "Usage: nobrainer [OPTIONS] COMMAND [ARGS]...\n",
      "\n",
      "  A framework for developing neural network models for 3D image processing.\n",
      "\n",
      "Options:\n",
      "  --version  Show the version and exit.\n",
      "  --help     Show this message and exit.\n",
      "\n",
      "Commands:\n",
      "  convert   Convert medical imaging volumes to TFRecords.\n",
      "  evaluate  Evaluate a model's predictions against known labels.\n",
      "  generate  Generate images from latents using a trained GAN model.\n",
      "  info      Return information about this system.\n",
      "  merge     Merge multiple models trained with variational weights.\n",
      "  predict   Predict labels from features using a trained model.\n",
      "  save      Save a model to SavedModel type.\n"
     ]
    }
   ],
   "source": [
    "!nobrainer --help"
   ],
   "metadata": {
    "collapsed": false
   }
  },
  {
   "cell_type": "code",
   "execution_count": null,
   "outputs": [],
   "source": [],
   "metadata": {
    "collapsed": false
   }
  }
 ],
 "metadata": {
  "kernelspec": {
   "display_name": "Python 3",
   "language": "python",
   "name": "python3"
  },
  "language_info": {
   "codemirror_mode": {
    "name": "ipython",
    "version": 2
   },
   "file_extension": ".py",
   "mimetype": "text/x-python",
   "name": "python",
   "nbconvert_exporter": "python",
   "pygments_lexer": "ipython2",
   "version": "2.7.6"
  }
 },
 "nbformat": 4,
 "nbformat_minor": 0
}
