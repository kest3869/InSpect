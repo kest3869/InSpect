{
 "cells": [
  {
   "cell_type": "markdown",
   "source": [
    "# EDA and data loading for SPECT scan dataset\n",
    "##### Kevin Stull\n",
    "I am working with this dataset for my final project in my machine learning class. It does not explicitly cover content seen in the last two weeks of this class, but it is relevant to topics we have covered in this course and I figured it was interesting enough to share. The task is to detect the presence of neurological pathologies in a patient using their SPECT scan. The data set is not publicly available but I am allowed to use it for demonstration purposes."
   ],
   "metadata": {
    "collapsed": false
   }
  },
  {
   "cell_type": "code",
   "execution_count": 1,
   "metadata": {},
   "outputs": [],
   "source": [
    "import os\n",
    "import numpy as np\n",
    "import nibabel as nib"
   ]
  },
  {
   "cell_type": "code",
   "execution_count": 2,
   "metadata": {},
   "outputs": [],
   "source": [
    "# pointing to our file\n",
    "data_path = os.getcwd()\n",
    "example_filename = os.path.join(data_path, 'sub-1928_ses-rest_spect_MNI_max.nii')"
   ]
  },
  {
   "cell_type": "code",
   "execution_count": 3,
   "metadata": {},
   "outputs": [],
   "source": [
    "# making our image file\n",
    "import nibabel as nib\n",
    "img = nib.load(example_filename)"
   ]
  },
  {
   "cell_type": "code",
   "execution_count": 4,
   "outputs": [
    {
     "data": {
      "text/plain": "(79, 95, 79)"
     },
     "execution_count": 4,
     "metadata": {},
     "output_type": "execute_result"
    }
   ],
   "source": [
    "# The image is a 3D grid of volumetric pixels (voxels)\n",
    "img.shape"
   ],
   "metadata": {
    "collapsed": false
   }
  },
  {
   "cell_type": "code",
   "execution_count": 5,
   "outputs": [
    {
     "data": {
      "text/plain": "dtype('<f8')"
     },
     "execution_count": 5,
     "metadata": {},
     "output_type": "execute_result"
    }
   ],
   "source": [
    "# each voxel has an 8 digit floating point value between 0 and 1\n",
    "img.get_data_dtype()"
   ],
   "metadata": {
    "collapsed": false
   }
  },
  {
   "cell_type": "code",
   "execution_count": 6,
   "outputs": [
    {
     "data": {
      "text/plain": "numpy.memmap"
     },
     "execution_count": 6,
     "metadata": {},
     "output_type": "execute_result"
    }
   ],
   "source": [
    "# This function is from the NiBabel library used to get the binary data needed to plot these scans\n",
    "data = img.get_fdata()\n",
    "type(data)"
   ],
   "metadata": {
    "collapsed": false
   }
  },
  {
   "cell_type": "code",
   "execution_count": 7,
   "outputs": [
    {
     "data": {
      "text/plain": "0.5562044191147731"
     },
     "execution_count": 7,
     "metadata": {},
     "output_type": "execute_result"
    }
   ],
   "source": [
    "# This is the value of a single voxel somewhere in the middle of the brain\n",
    "data[45][45][45]"
   ],
   "metadata": {
    "collapsed": false
   }
  },
  {
   "cell_type": "code",
   "execution_count": 8,
   "outputs": [],
   "source": [
    "# Installing some libraries that I will use to visualize slices of the scan\n",
    "!pip install mayavi -q\n",
    "!pip install PyQt5 -q"
   ],
   "metadata": {
    "collapsed": false
   }
  },
  {
   "cell_type": "code",
   "execution_count": 9,
   "outputs": [
    {
     "data": {
      "text/plain": "<Figure size 640x480 with 9 Axes>",
      "image/png": "[encoded data removed]"
     },
     "metadata": {},
     "output_type": "display_data"
    }
   ],
   "source": [
    "import matplotlib.pyplot as plt\n",
    "import numpy as np\n",
    "\n",
    "# Assuming you have a 3D numpy array called \"data\"\n",
    "fig, axs = plt.subplots(nrows=3, ncols=3)\n",
    "for i in range(3):\n",
    "    for j in range(3):\n",
    "        axs[i, j].imshow(data[:, :, i+j*3], cmap='gray')\n",
    "\n",
    "plt.show()"
   ],
   "metadata": {
    "collapsed": false
   }
  },
  {
   "cell_type": "code",
   "execution_count": 10,
   "outputs": [],
   "source": [
    "# library used for 3d visualization of the scan\n",
    "!pip install trame -q"
   ],
   "metadata": {
    "collapsed": false
   }
  },
  {
   "cell_type": "code",
   "execution_count": 11,
   "outputs": [
    {
     "data": {
      "text/plain": "Widget(value=\"<iframe src='http://localhost:64543/index.html?ui=P_0x28ca4b6dc70_0&reconnect=auto' style='width…",
      "application/vnd.jupyter.widget-view+json": {
       "version_major": 2,
       "version_minor": 0,
       "model_id": "64b20328cd064ddfa70ddd5dd0a42ba3"
      }
     },
     "metadata": {},
     "output_type": "display_data"
    }
   ],
   "source": [
    "# I re-declare everything here because that's what allows this to render consistently\n",
    "import pyvista as pv\n",
    "import os\n",
    "import numpy as np\n",
    "import nibabel as nib\n",
    "\n",
    "data_path = os.getcwd()\n",
    "example_filename = os.path.join(data_path, 'sub-1928_ses-rest_spect_MNI_max.nii')\n",
    "img = nib.load(example_filename)\n",
    "data = img.get_fdata()\n",
    "\n",
    "grid = pv.UniformGrid()\n",
    "grid.dimensions = data.shape\n",
    "grid.origin = (0, 0, 0) # Define the origin point of the grid\n",
    "grid.spacing = (1, 1, 1) # Define the spacing between each point in the grid\n",
    "grid[\"data\"] = data.flatten(order=\"F\") # Flatten the 3D data array\n",
    "\n",
    "# Create a plotter object and add the volumetric data\n",
    "plotter = pv.Plotter()\n",
    "plotter.add_volume(grid, cmap=\"bone\")\n",
    "\n",
    "# Display the plot\n",
    "plotter.show()\n",
    "\n",
    "# NOTE: Froze this so that it works with the Jupyter Notebook upload"
   ],
   "metadata": {
    "collapsed": false
   }
  },
  {
   "cell_type": "markdown",
   "source": [
    "### Loading the Dataset\n",
    "It has already been spatially normalized and all voxel values are between 0 and 1. So all I need to do is load it up and assign labels. The dataset is pretty small, so my expectations of this version (without transfer learning) are pretty low. There are two versions of each file, one contains the raw image of the scan data, and one is the normalized versions. I will be using the normalized versions so we can just check for which filenames contain 'max'."
   ],
   "metadata": {
    "collapsed": false
   }
  },
  {
   "cell_type": "code",
   "execution_count": 12,
   "outputs": [
    {
     "name": "stdout",
     "output_type": "stream",
     "text": [
      "There are 1033 datapoints.\n"
     ]
    }
   ],
   "source": [
    "# Here we will just index through each folder and count how many normalized scans there are\n",
    "counter = 0\n",
    "top_dir = 'datasets'\n",
    "for folder in os.listdir(top_dir):\n",
    "    for file in os.listdir(top_dir + '/' + str(folder)):\n",
    "        if 'max' not in str(file) :\n",
    "            counter += 1\n",
    "\n",
    "num_datapoints = counter\n",
    "print(\"There are\", counter, 'datapoints.')\n"
   ],
   "metadata": {
    "collapsed": false
   }
  },
  {
   "cell_type": "code",
   "execution_count": 16,
   "outputs": [
    {
     "name": "stdout",
     "output_type": "stream",
     "text": [
      "Healthy: 76\n",
      "PTSD: 661\n",
      "MDD: 296\n"
     ]
    }
   ],
   "source": [
    "# Pretty Good: But what's the distribution of the dataset?\n",
    "counts = [0, 0, 0]\n",
    "\n",
    "for i, folder in enumerate(os.listdir(top_dir)):\n",
    "    for file in os.listdir(top_dir + '/' + str(folder)):\n",
    "        if 'max' not in str(file):\n",
    "            counts[i] += 1\n",
    "\n",
    "print(\"Healthy:\", counts[0])\n",
    "print(\"PTSD:\", counts[1])\n",
    "print(\"MDD:\", counts[2])"
   ],
   "metadata": {
    "collapsed": false
   }
  },
  {
   "cell_type": "markdown",
   "source": [
    "### Addressing the Size of the Dataset\n",
    "Like I said, not a lot of data. Let's start small, we will combine the healthy and MDD data sets together and try to train a binary classifier that can (hopefully) act as a detector for PTSD. This is using the non-normalized inputs."
   ],
   "metadata": {
    "collapsed": false
   }
  },
  {
   "cell_type": "code",
   "execution_count": 17,
   "outputs": [],
   "source": [
    "# Here is a function to load the data into training, testing, and validation sets\n",
    "\n",
    "import os\n",
    "import nibabel as nib\n",
    "import numpy as np\n",
    "from sklearn.model_selection import train_test_split\n",
    "\n",
    "def load_data(top_dir, test_size=0.2, val_size=0.1):\n",
    "    # Get a list of all the file paths\n",
    "    file_paths = []\n",
    "    labels = []\n",
    "    for i, folder in enumerate(os.listdir(top_dir)):\n",
    "        for file in os.listdir(top_dir + '/' + str(folder)):\n",
    "            if 'max' in str(file):\n",
    "                file_paths.append(os.path.join(top_dir, folder, file))\n",
    "                labels.append(i)\n",
    "\n",
    "    # Load the images into a numpy array\n",
    "    data = []\n",
    "    for filename in file_paths:\n",
    "        img = nib.load(filename)\n",
    "        data.append(img.get_fdata())\n",
    "    data = np.array(data)\n",
    "\n",
    "    # Convert labels to numpy array\n",
    "    labels = np.array(labels)\n",
    "\n",
    "    # Reassign labels assigned to 2 to 0\n",
    "    labels[labels==2] = 0\n",
    "\n",
    "    # Split the data into train, validation, and test sets\n",
    "    X_train, X_test, y_train, y_test = train_test_split(data, labels, test_size=test_size, stratify=labels)\n",
    "    X_train, X_val, y_train, y_val = train_test_split(X_train, y_train, test_size=val_size, stratify=y_train)\n",
    "\n",
    "    return X_train, X_val, X_test, y_train, y_val, y_test\n"
   ],
   "metadata": {
    "collapsed": false
   }
  },
  {
   "cell_type": "code",
   "execution_count": 18,
   "outputs": [],
   "source": [
    "# Loading our data\n",
    "X_train, X_val, X_test, y_train, y_val, y_test = load_data('../InSPECT/datasets')"
   ],
   "metadata": {
    "collapsed": false
   }
  },
  {
   "cell_type": "code",
   "execution_count": 19,
   "outputs": [
    {
     "name": "stdout",
     "output_type": "stream",
     "text": [
      "Finished Loading Data!\n"
     ]
    }
   ],
   "source": [
    "print(\"Finished Loading Data!\")"
   ],
   "metadata": {
    "collapsed": false
   }
  },
  {
   "cell_type": "code",
   "execution_count": 20,
   "outputs": [
    {
     "name": "stdout",
     "output_type": "stream",
     "text": [
      "X_train shape: (743, 79, 95, 79)\n",
      "y_train shape: (743,)\n",
      "X_val shape: (83, 79, 95, 79)\n",
      "y_val shape: (83,)\n",
      "X_test shape: (207, 79, 95, 79)\n",
      "y_test shape: (207,)\n"
     ]
    }
   ],
   "source": [
    "# Let's check our output\n",
    "print('X_train shape:', X_train.shape)\n",
    "print('y_train shape:', y_train.shape)\n",
    "\n",
    "print('X_val shape:', X_val.shape)\n",
    "print('y_val shape:', y_val.shape)\n",
    "\n",
    "print('X_test shape:', X_test.shape)\n",
    "print('y_test shape:', y_test.shape)"
   ],
   "metadata": {
    "collapsed": false
   }
  },
  {
   "cell_type": "markdown",
   "source": [
    "### Conclusion\n",
    "The dataset is relatively small but promising results have been generated from similarly sized datasets. Although, the complexity might necessitate more data. Next time, we can define our model architecture, including some functions to permute the data to combat over fitting."
   ],
   "metadata": {
    "collapsed": false
   }
  },
  {
   "cell_type": "markdown",
   "source": [
    "# Data processing Functions\n",
    "These functions will apply some transformations to our images to help combat over fitting. The rest of the architecture will be following the implementation details of:\n",
    " https://keras.io/examples/vision/3D_image_classification/#define-a-3d-convolutional-neural-network"
   ],
   "metadata": {
    "collapsed": false
   }
  },
  {
   "cell_type": "code",
   "execution_count": 21,
   "outputs": [
    {
     "name": "stderr",
     "output_type": "stream",
     "text": [
      "WARNING:tensorflow:From C:\\Users\\Yeyian PC\\PycharmProjects\\pythonProject\\venv\\lib\\site-packages\\tensorflow\\python\\autograph\\pyct\\static_analysis\\liveness.py:83: Analyzer.lamba_check (from tensorflow.python.autograph.pyct.static_analysis.liveness) is deprecated and will be removed after 2023-09-23.\n",
      "Instructions for updating:\n",
      "Lambda fuctions will be no more assumed to be used in the statement where they are used, or at least in the same block. https://github.com/tensorflow/tensorflow/issues/56089\n"
     ]
    }
   ],
   "source": [
    "import random\n",
    "import tensorflow as tf\n",
    "from scipy import ndimage\n",
    "\n",
    "@tf.function\n",
    "def rotate(volume):\n",
    "    \"\"\"Rotate the volume by a few degrees\"\"\"\n",
    "\n",
    "    # had to modify this to return float instead of double\n",
    "    def scipy_rotate(volume):\n",
    "        # define some rotation angles\n",
    "        angles = [-20, -10, -5, 5, 10, 20]\n",
    "        # pick angles at random\n",
    "        angle = random.choice(angles)\n",
    "        # rotate volume\n",
    "        volume = ndimage.rotate(volume, angle, reshape=False)\n",
    "        volume[volume < 0] = 0\n",
    "        volume[volume > 1] = 1\n",
    "        return volume.astype(np.float32)\n",
    "\n",
    "    augmented_volume = tf.numpy_function(scipy_rotate, [volume], tf.float32)\n",
    "    return augmented_volume\n",
    "\n",
    "def train_preprocessing(volume, label):\n",
    "    \"\"\"Process training data by rotating and adding a channel.\"\"\"\n",
    "    # Rotate volume\n",
    "    volume = rotate(volume)\n",
    "    volume = tf.expand_dims(volume, axis=3)\n",
    "    return volume, label\n",
    "\n",
    "\n",
    "def validation_preprocessing(volume, label):\n",
    "    \"\"\"Process validation data by only adding a channel.\"\"\"\n",
    "    volume = tf.expand_dims(volume, axis=3)\n",
    "    return volume, label\n",
    "\n",
    "# Define data loaders.\n",
    "train_loader = tf.data.Dataset.from_tensor_slices((X_train, y_train))\n",
    "validation_loader = tf.data.Dataset.from_tensor_slices((X_val, y_val))\n",
    "\n",
    "batch_size = 2\n",
    "# Augment the on the fly during training.\n",
    "train_dataset = (\n",
    "    train_loader.shuffle(len(X_train))\n",
    "    .map(train_preprocessing)\n",
    "    .batch(batch_size)\n",
    "    .prefetch(2)\n",
    ")\n",
    "# Only rescale.\n",
    "validation_dataset = (\n",
    "    validation_loader.shuffle(len(X_val))\n",
    "    .map(validation_preprocessing)\n",
    "    .batch(batch_size)\n",
    "    .prefetch(2)\n",
    ")\n"
   ],
   "metadata": {
    "collapsed": false
   }
  },
  {
   "cell_type": "code",
   "execution_count": 2,
   "outputs": [
    {
     "data": {
      "text/plain": "[]"
     },
     "execution_count": 2,
     "metadata": {},
     "output_type": "execute_result"
    }
   ],
   "source": [
    "import tensorflow as tf\n",
    "tf.config.list_physical_devices('GPU')"
   ],
   "metadata": {
    "collapsed": false
   }
  },
  {
   "cell_type": "code",
   "execution_count": 22,
   "outputs": [
    {
     "name": "stdout",
     "output_type": "stream",
     "text": [
      "Dimension of the SPECT scan is: (79, 95, 79, 1)\n"
     ]
    },
    {
     "data": {
      "text/plain": "Text(0.5, 1.0, 'Slightly Rotated Slice of SPECT Scan ')"
     },
     "execution_count": 22,
     "metadata": {},
     "output_type": "execute_result"
    },
    {
     "data": {
      "text/plain": "<Figure size 640x480 with 1 Axes>",
      "image/png": "[encoded data removed]"
     },
     "metadata": {},
     "output_type": "display_data"
    }
   ],
   "source": [
    "# Let's take a look to see what the rotation function is doing\n",
    "data = train_dataset.take(1)\n",
    "images, labels = list(data)[0]\n",
    "images = images.numpy()\n",
    "image = images[0]\n",
    "print(\"Dimension of the SPECT scan is:\", image.shape)\n",
    "plt.imshow(np.squeeze(image[:, :, 30]), cmap=\"gray\")\n",
    "plt.title(\"Slightly Rotated Slice of SPECT Scan \")"
   ],
   "metadata": {
    "collapsed": false
   }
  },
  {
   "cell_type": "code",
   "execution_count": 23,
   "outputs": [
    {
     "data": {
      "text/plain": "(79, 95, 79)"
     },
     "execution_count": 23,
     "metadata": {},
     "output_type": "execute_result"
    }
   ],
   "source": [
    "np.shape(X_train[0])"
   ],
   "metadata": {
    "collapsed": false
   }
  },
  {
   "cell_type": "markdown",
   "source": [
    "### Defining Our Model\n",
    "We are dealing with a 3D CNN as defined by this paper https://arxiv.org/abs/2007.13224 Keras makes the model initialization pretty easy. All we need to do is modify the shape of the inputs to the dimension of the scans."
   ],
   "metadata": {
    "collapsed": false
   }
  },
  {
   "cell_type": "code",
   "execution_count": 24,
   "outputs": [
    {
     "name": "stdout",
     "output_type": "stream",
     "text": [
      "Model: \"3dcnn\"\n",
      "_________________________________________________________________\n",
      " Layer (type)                Output Shape              Param #   \n",
      "=================================================================\n",
      " input_1 (InputLayer)        [(None, 79, 95, 79, 1)]   0         \n",
      "                                                                 \n",
      " conv3d (Conv3D)             (None, 77, 93, 77, 64)    1792      \n",
      "                                                                 \n",
      " max_pooling3d (MaxPooling3D  (None, 38, 46, 38, 64)   0         \n",
      " )                                                               \n",
      "                                                                 \n",
      " batch_normalization (BatchN  (None, 38, 46, 38, 64)   256       \n",
      " ormalization)                                                   \n",
      "                                                                 \n",
      " conv3d_1 (Conv3D)           (None, 36, 44, 36, 64)    110656    \n",
      "                                                                 \n",
      " max_pooling3d_1 (MaxPooling  (None, 18, 22, 18, 64)   0         \n",
      " 3D)                                                             \n",
      "                                                                 \n",
      " batch_normalization_1 (Batc  (None, 18, 22, 18, 64)   256       \n",
      " hNormalization)                                                 \n",
      "                                                                 \n",
      " conv3d_2 (Conv3D)           (None, 16, 20, 16, 128)   221312    \n",
      "                                                                 \n",
      " max_pooling3d_2 (MaxPooling  (None, 8, 10, 8, 128)    0         \n",
      " 3D)                                                             \n",
      "                                                                 \n",
      " batch_normalization_2 (Batc  (None, 8, 10, 8, 128)    512       \n",
      " hNormalization)                                                 \n",
      "                                                                 \n",
      " conv3d_3 (Conv3D)           (None, 6, 8, 6, 256)      884992    \n",
      "                                                                 \n",
      " max_pooling3d_3 (MaxPooling  (None, 3, 4, 3, 256)     0         \n",
      " 3D)                                                             \n",
      "                                                                 \n",
      " batch_normalization_3 (Batc  (None, 3, 4, 3, 256)     1024      \n",
      " hNormalization)                                                 \n",
      "                                                                 \n",
      " global_average_pooling3d (G  (None, 256)              0         \n",
      " lobalAveragePooling3D)                                          \n",
      "                                                                 \n",
      " dense (Dense)               (None, 512)               131584    \n",
      "                                                                 \n",
      " dropout (Dropout)           (None, 512)               0         \n",
      "                                                                 \n",
      " dense_1 (Dense)             (None, 1)                 513       \n",
      "                                                                 \n",
      "=================================================================\n",
      "Total params: 1,352,897\n",
      "Trainable params: 1,351,873\n",
      "Non-trainable params: 1,024\n",
      "_________________________________________________________________\n"
     ]
    }
   ],
   "source": [
    "# Model Definition\n",
    "\n",
    "from tensorflow import keras\n",
    "from keras import layers\n",
    "\n",
    "def get_model(width=79, height=95, depth=79):\n",
    "    \"\"\"Build a 3D convolutional neural network model.\"\"\"\n",
    "\n",
    "    inputs = keras.Input((width, height, depth, 1))\n",
    "\n",
    "    x = layers.Conv3D(filters=64, kernel_size=3, activation=\"relu\")(inputs)\n",
    "    x = layers.MaxPool3D(pool_size=2)(x)\n",
    "    x = layers.BatchNormalization()(x)\n",
    "\n",
    "    x = layers.Conv3D(filters=64, kernel_size=3, activation=\"relu\")(x)\n",
    "    x = layers.MaxPool3D(pool_size=2)(x)\n",
    "    x = layers.BatchNormalization()(x)\n",
    "\n",
    "    x = layers.Conv3D(filters=128, kernel_size=3, activation=\"relu\")(x)\n",
    "    x = layers.MaxPool3D(pool_size=2)(x)\n",
    "    x = layers.BatchNormalization()(x)\n",
    "\n",
    "    x = layers.Conv3D(filters=256, kernel_size=3, activation=\"relu\")(x)\n",
    "    x = layers.MaxPool3D(pool_size=2)(x)\n",
    "    x = layers.BatchNormalization()(x)\n",
    "\n",
    "    x = layers.GlobalAveragePooling3D()(x)\n",
    "    x = layers.Dense(units=512, activation=\"relu\")(x)\n",
    "    x = layers.Dropout(0.3)(x)\n",
    "\n",
    "    outputs = layers.Dense(units=1, activation=\"sigmoid\")(x)\n",
    "\n",
    "    # Define the model.\n",
    "    model = keras.Model(inputs, outputs, name=\"3dcnn\")\n",
    "    return model\n",
    "\n",
    "\n",
    "# Build model.\n",
    "model = get_model()\n",
    "model.summary()"
   ],
   "metadata": {
    "collapsed": false
   }
  },
  {
   "cell_type": "code",
   "execution_count": null,
   "outputs": [],
   "source": [
    "# Compile model\n",
    "initial_learning_rate = 0.0001\n",
    "lr_schedule = keras.optimizers.schedules.ExponentialDecay(\n",
    "    initial_learning_rate, decay_steps=100000, decay_rate=0.96, staircase=True\n",
    ")\n",
    "model.compile(\n",
    "    loss=\"binary_crossentropy\",\n",
    "    optimizer=keras.optimizers.Adam(learning_rate=lr_schedule),\n",
    "    metrics=[\"acc\"],\n",
    ")\n",
    "\n",
    "# Define callbacks.\n",
    "checkpoint_cb = keras.callbacks.ModelCheckpoint(\n",
    "    \"3d_image_classification.h5\", save_best_only=True\n",
    ")\n",
    "early_stopping_cb = keras.callbacks.EarlyStopping(monitor=\"val_acc\", patience=15)\n",
    "\n",
    "# Train the model, doing validation at the end of each epoch\n",
    "epochs = 5\n",
    "model.fit(\n",
    "    train_dataset,\n",
    "    validation_data=validation_dataset,\n",
    "    epochs=epochs,\n",
    "    shuffle=True,\n",
    "    callbacks=[checkpoint_cb, early_stopping_cb],\n",
    ")"
   ],
   "metadata": {
    "collapsed": false
   }
  },
  {
   "cell_type": "code",
   "execution_count": null,
   "outputs": [],
   "source": [
    "fig, ax = plt.subplots(1, 2, figsize=(20, 3))\n",
    "ax = ax.ravel()\n",
    "\n",
    "for i, metric in enumerate([\"acc\", \"loss\"]):\n",
    "    ax[i].plot(model.history.history[metric])\n",
    "    ax[i].plot(model.history.history[\"val_\" + metric])\n",
    "    ax[i].set_title(\"Model {}\".format(metric))\n",
    "    ax[i].set_xlabel(\"epochs\")\n",
    "    ax[i].set_ylabel(metric)\n",
    "    ax[i].legend([\"train\", \"val\"])"
   ],
   "metadata": {
    "collapsed": false
   }
  },
  {
   "cell_type": "markdown",
   "source": [
    "### Conclusion\n",
    "I should be able to add a lot more data to the model in the future. But I am a bit concerned because this took about 8.5 hours to train as is. Also, the model seems to be converging to random guessing  (b/c the success case is about 60% of the data). Adding in transfer learning on the med3D dataset might help with improving model convergence and over fitting. As a last resort I might have to try some more complex models using attention or residual connections. I'm open to any thoughts or feedback."
   ],
   "metadata": {
    "collapsed": false
   }
  },
  {
   "cell_type": "code",
   "execution_count": null,
   "outputs": [],
   "source": [],
   "metadata": {
    "collapsed": false
   }
  }
 ],
 "metadata": {
  "kernelspec": {
   "display_name": "Python 3 (ipykernel)",
   "language": "python",
   "name": "python3"
  },
  "language_info": {
   "codemirror_mode": {
    "name": "ipython",
    "version": 3
   },
   "file_extension": ".py",
   "mimetype": "text/x-python",
   "name": "python",
   "nbconvert_exporter": "python",
   "pygments_lexer": "ipython3",
   "version": "3.10.8"
  }
 },
 "nbformat": 4,
 "nbformat_minor": 1
}
