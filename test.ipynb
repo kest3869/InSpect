{
 "cells": [
  {
   "attachments": {},
   "cell_type": "markdown",
   "metadata": {},
   "source": [
    "### Sanity Check"
   ]
  },
  {
   "cell_type": "code",
   "execution_count": 1,
   "metadata": {},
   "outputs": [],
   "source": [
    "import csv\n",
    "import numpy as np\n",
    "import nobrainer\n",
    "import os\n",
    "import pandas as pd "
   ]
  },
  {
   "cell_type": "code",
   "execution_count": 2,
   "metadata": {},
   "outputs": [],
   "source": [
    "def load_data(top_dir):\n",
    "\n",
    "    # Get a list of all the file paths and labels\n",
    "    file_paths = []\n",
    "    labels = []\n",
    "    for i, folder in enumerate(os.listdir(top_dir)):\n",
    "        for file in os.listdir(os.path.join(top_dir, folder)):\n",
    "            if 'max' in str(file):\n",
    "                file_paths.append(os.path.join(top_dir, folder, file))\n",
    "                labels.append(i)\n",
    "\n",
    "    # Reassign labels assigned to 2 to 0\n",
    "    labels = np.array(labels)\n",
    "    labels[labels==2] = 0\n",
    "\n",
    "    # Create a list of tuples with file paths and labels\n",
    "    data = list(zip(file_paths, labels))\n",
    "\n",
    "    # Save the data to a .csv file\n",
    "    with open('dataCsv.csv', 'w', newline='') as csvfile:\n",
    "        writer = csv.writer(csvfile)\n",
    "        writer.writerow(['path', 'label'])\n",
    "        writer.writerows(data)\n"
   ]
  },
  {
   "cell_type": "code",
   "execution_count": 3,
   "metadata": {},
   "outputs": [
    {
     "data": {
      "text/plain": [
       "'c:\\\\Users\\\\inspect\\\\InSpect\\\\datasets'"
      ]
     },
     "execution_count": 3,
     "metadata": {},
     "output_type": "execute_result"
    }
   ],
   "source": [
    "# get path to data \n",
    "path_to_data = os.getcwd()+'\\datasets'\n",
    "path_to_data"
   ]
  },
  {
   "cell_type": "code",
   "execution_count": 4,
   "metadata": {},
   "outputs": [],
   "source": [
    "# call the function to make the CSV \n",
    "load_data(path_to_data)"
   ]
  },
  {
   "cell_type": "code",
   "execution_count": 5,
   "metadata": {},
   "outputs": [
    {
     "data": {
      "text/plain": [
       "'c:\\\\Users\\\\inspect\\\\InSpect\\\\dataCsv.csv'"
      ]
     },
     "execution_count": 5,
     "metadata": {},
     "output_type": "execute_result"
    }
   ],
   "source": [
    "# we save our path to csv \n",
    "path_to_csv = str(os.getcwd() + '\\dataCsv.csv')\n",
    "path_to_csv"
   ]
  },
  {
   "cell_type": "code",
   "execution_count": 6,
   "metadata": {},
   "outputs": [
    {
     "name": "stdout",
     "output_type": "stream",
     "text": [
      " Volume in drive C has no label.\n",
      " Volume Serial Number is 70FE-3D3B\n",
      "\n",
      " Directory of c:\\Users\\inspect\\InSpect\n",
      "\n",
      "03/27/2023  06:58 PM    <DIR>          .\n",
      "03/27/2023  11:22 PM    <DIR>          ..\n",
      "03/27/2023  07:00 PM               174 bugfixes.txt\n",
      "03/27/2023  05:26 PM    <DIR>          data\n",
      "03/28/2023  02:22 PM            85,351 dataCsv.csv\n",
      "03/24/2023  12:28 PM    <DIR>          datasets\n",
      "03/27/2023  11:22 PM            15,984 InSpect_DL2.ipynb\n",
      "03/27/2023  04:35 PM           107,919 InSPECT_EDA_FM.ipynb\n",
      "03/24/2023  11:37 AM             3,768 InSPECT_FD_FE_TL.ipynb\n",
      "03/27/2023  12:02 PM            17,183 InSpect_LD_TM.ipynb\n",
      "03/24/2023  01:19 PM               799 README.md\n",
      "03/27/2023  11:22 PM             7,442 test.ipynb\n",
      "               8 File(s)        238,620 bytes\n",
      "               4 Dir(s)  794,832,568,320 bytes free\n"
     ]
    }
   ],
   "source": [
    "!dir\n"
   ]
  },
  {
   "cell_type": "code",
   "execution_count": 7,
   "metadata": {},
   "outputs": [
    {
     "data": {
      "text/html": [
       "<div>\n",
       "<style scoped>\n",
       "    .dataframe tbody tr th:only-of-type {\n",
       "        vertical-align: middle;\n",
       "    }\n",
       "\n",
       "    .dataframe tbody tr th {\n",
       "        vertical-align: top;\n",
       "    }\n",
       "\n",
       "    .dataframe thead th {\n",
       "        text-align: right;\n",
       "    }\n",
       "</style>\n",
       "<table border=\"1\" class=\"dataframe\">\n",
       "  <thead>\n",
       "    <tr style=\"text-align: right;\">\n",
       "      <th></th>\n",
       "      <th>path</th>\n",
       "      <th>label</th>\n",
       "    </tr>\n",
       "  </thead>\n",
       "  <tbody>\n",
       "    <tr>\n",
       "      <th>0</th>\n",
       "      <td>c:\\Users\\inspect\\InSpect\\datasets\\healthy\\sub-...</td>\n",
       "      <td>0</td>\n",
       "    </tr>\n",
       "  </tbody>\n",
       "</table>\n",
       "</div>"
      ],
      "text/plain": [
       "                                                path  label\n",
       "0  c:\\Users\\inspect\\InSpect\\datasets\\healthy\\sub-...      0"
      ]
     },
     "execution_count": 7,
     "metadata": {},
     "output_type": "execute_result"
    }
   ],
   "source": [
    "# Load the CSV file into a Pandas DataFrame\n",
    "data = pd.read_csv('c:/Users/inspect/InSpect/dataCsv.csv')\n",
    "\n",
    "# Display the first item in the DataFrame\n",
    "data.head(1)"
   ]
  },
  {
   "cell_type": "code",
   "execution_count": 8,
   "metadata": {},
   "outputs": [
    {
     "name": "stderr",
     "output_type": "stream",
     "text": [
      "Usage: nobrainer convert [OPTIONS]\n",
      "Try 'nobrainer convert --help' for help.\n",
      "\n",
      "Error: Invalid value for '-c' / '--csv': Path \"'c:/Users/inspect/InSpect/dataCsv.csv'\" does not exist.\n"
     ]
    }
   ],
   "source": [
    "!nobrainer convert \\\n",
    "    --csv='c:/Users/inspect/InSpect/dataCsv.csv' \\\n",
    "    --tfrecords-template='data/data_shard-{shard:03d}.tfrec' \\\n",
    "    --examples-per-shard=103 \\\n",
    "    --volume-shape=79 95 79 \\\n",
    "    --verbose"
   ]
  },
  {
   "cell_type": "code",
   "execution_count": 12,
   "metadata": {},
   "outputs": [
    {
     "data": {
      "text/plain": [
       "<module 'nobrainer.volume' from 'c:\\\\Users\\\\inspect\\\\miniconda3\\\\envs\\\\nobrainer\\\\lib\\\\site-packages\\\\nobrainer\\\\volume.py'>"
      ]
     },
     "execution_count": 12,
     "metadata": {},
     "output_type": "execute_result"
    }
   ],
   "source": [
    "nobrainer.volume"
   ]
  },
  {
   "cell_type": "code",
   "execution_count": 13,
   "metadata": {},
   "outputs": [
    {
     "data": {
      "text/plain": [
       "<module 'nobrainer.tfrecord' from 'c:\\\\Users\\\\inspect\\\\miniconda3\\\\envs\\\\nobrainer\\\\lib\\\\site-packages\\\\nobrainer\\\\tfrecord.py'>"
      ]
     },
     "execution_count": 13,
     "metadata": {},
     "output_type": "execute_result"
    }
   ],
   "source": [
    "nobrainer.tfrecord"
   ]
  },
  {
   "cell_type": "code",
   "execution_count": null,
   "metadata": {},
   "outputs": [],
   "source": []
  }
 ],
 "metadata": {
  "kernelspec": {
   "display_name": "nobrainer",
   "language": "python",
   "name": "python3"
  },
  "language_info": {
   "codemirror_mode": {
    "name": "ipython",
    "version": 3
   },
   "file_extension": ".py",
   "mimetype": "text/x-python",
   "name": "python",
   "nbconvert_exporter": "python",
   "pygments_lexer": "ipython3",
   "version": "3.10.9"
  },
  "orig_nbformat": 4
 },
 "nbformat": 4,
 "nbformat_minor": 2
}
